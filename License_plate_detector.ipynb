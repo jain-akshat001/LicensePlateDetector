{
  "nbformat": 4,
  "nbformat_minor": 0,
  "metadata": {
    "accelerator": "GPU",
    "colab": {
      "name": "License_plate_detector.ipynb",
      "provenance": [],
      "collapsed_sections": [],
      "include_colab_link": true
    },
    "kernelspec": {
      "display_name": "Python 3",
      "name": "python3"
    },
    "language_info": {
      "name": "python"
    }
  },
  "cells": [
    {
      "cell_type": "markdown",
      "metadata": {
        "id": "view-in-github",
        "colab_type": "text"
      },
      "source": [
        "<a href=\"https://colab.research.google.com/github/jain-akshat001/LicensePlateDetector/blob/main/License_plate_detector.ipynb\" target=\"_parent\"><img src=\"https://colab.research.google.com/assets/colab-badge.svg\" alt=\"Open In Colab\"/></a>"
      ]
    },
    {
      "cell_type": "code",
      "metadata": {
        "id": "oYgykqoj2JYv"
      },
      "source": [
        "import keras"
      ],
      "execution_count": 1,
      "outputs": []
    },
    {
      "cell_type": "code",
      "metadata": {
        "colab": {
          "base_uri": "https://localhost:8080/",
          "height": 328
        },
        "id": "mjuE6g-DBPl2",
        "outputId": "4b86c990-9669-482c-a8aa-2d2b5549be8b"
      },
      "source": [
        "from google.colab import drive\n",
        "drive.mount('/content/drive')"
      ],
      "execution_count": 2,
      "outputs": [
        {
          "output_type": "error",
          "ename": "MessageError",
          "evalue": "ignored",
          "traceback": [
            "\u001b[0;31m---------------------------------------------------------------------------\u001b[0m",
            "\u001b[0;31mMessageError\u001b[0m                              Traceback (most recent call last)",
            "\u001b[0;32m<ipython-input-2-d5df0069828e>\u001b[0m in \u001b[0;36m<module>\u001b[0;34m()\u001b[0m\n\u001b[1;32m      1\u001b[0m \u001b[0;32mfrom\u001b[0m \u001b[0mgoogle\u001b[0m\u001b[0;34m.\u001b[0m\u001b[0mcolab\u001b[0m \u001b[0;32mimport\u001b[0m \u001b[0mdrive\u001b[0m\u001b[0;34m\u001b[0m\u001b[0;34m\u001b[0m\u001b[0m\n\u001b[0;32m----> 2\u001b[0;31m \u001b[0mdrive\u001b[0m\u001b[0;34m.\u001b[0m\u001b[0mmount\u001b[0m\u001b[0;34m(\u001b[0m\u001b[0;34m'/content/drive'\u001b[0m\u001b[0;34m)\u001b[0m\u001b[0;34m\u001b[0m\u001b[0;34m\u001b[0m\u001b[0m\n\u001b[0m",
            "\u001b[0;32m/usr/local/lib/python3.7/dist-packages/google/colab/drive.py\u001b[0m in \u001b[0;36mmount\u001b[0;34m(mountpoint, force_remount, timeout_ms)\u001b[0m\n\u001b[1;32m    107\u001b[0m       \u001b[0mforce_remount\u001b[0m\u001b[0;34m=\u001b[0m\u001b[0mforce_remount\u001b[0m\u001b[0;34m,\u001b[0m\u001b[0;34m\u001b[0m\u001b[0;34m\u001b[0m\u001b[0m\n\u001b[1;32m    108\u001b[0m       \u001b[0mtimeout_ms\u001b[0m\u001b[0;34m=\u001b[0m\u001b[0mtimeout_ms\u001b[0m\u001b[0;34m,\u001b[0m\u001b[0;34m\u001b[0m\u001b[0;34m\u001b[0m\u001b[0m\n\u001b[0;32m--> 109\u001b[0;31m       ephemeral=True)\n\u001b[0m\u001b[1;32m    110\u001b[0m \u001b[0;34m\u001b[0m\u001b[0m\n\u001b[1;32m    111\u001b[0m \u001b[0;34m\u001b[0m\u001b[0m\n",
            "\u001b[0;32m/usr/local/lib/python3.7/dist-packages/google/colab/drive.py\u001b[0m in \u001b[0;36m_mount\u001b[0;34m(mountpoint, force_remount, timeout_ms, ephemeral)\u001b[0m\n\u001b[1;32m    122\u001b[0m   \u001b[0;32mif\u001b[0m \u001b[0mephemeral\u001b[0m\u001b[0;34m:\u001b[0m\u001b[0;34m\u001b[0m\u001b[0;34m\u001b[0m\u001b[0m\n\u001b[1;32m    123\u001b[0m     _message.blocking_request(\n\u001b[0;32m--> 124\u001b[0;31m         'request_auth', request={'authType': 'dfs_ephemeral'}, timeout_sec=None)\n\u001b[0m\u001b[1;32m    125\u001b[0m \u001b[0;34m\u001b[0m\u001b[0m\n\u001b[1;32m    126\u001b[0m   \u001b[0mmountpoint\u001b[0m \u001b[0;34m=\u001b[0m \u001b[0m_os\u001b[0m\u001b[0;34m.\u001b[0m\u001b[0mpath\u001b[0m\u001b[0;34m.\u001b[0m\u001b[0mexpanduser\u001b[0m\u001b[0;34m(\u001b[0m\u001b[0mmountpoint\u001b[0m\u001b[0;34m)\u001b[0m\u001b[0;34m\u001b[0m\u001b[0;34m\u001b[0m\u001b[0m\n",
            "\u001b[0;32m/usr/local/lib/python3.7/dist-packages/google/colab/_message.py\u001b[0m in \u001b[0;36mblocking_request\u001b[0;34m(request_type, request, timeout_sec, parent)\u001b[0m\n\u001b[1;32m    173\u001b[0m   request_id = send_request(\n\u001b[1;32m    174\u001b[0m       request_type, request, parent=parent, expect_reply=True)\n\u001b[0;32m--> 175\u001b[0;31m   \u001b[0;32mreturn\u001b[0m \u001b[0mread_reply_from_input\u001b[0m\u001b[0;34m(\u001b[0m\u001b[0mrequest_id\u001b[0m\u001b[0;34m,\u001b[0m \u001b[0mtimeout_sec\u001b[0m\u001b[0;34m)\u001b[0m\u001b[0;34m\u001b[0m\u001b[0;34m\u001b[0m\u001b[0m\n\u001b[0m",
            "\u001b[0;32m/usr/local/lib/python3.7/dist-packages/google/colab/_message.py\u001b[0m in \u001b[0;36mread_reply_from_input\u001b[0;34m(message_id, timeout_sec)\u001b[0m\n\u001b[1;32m    104\u001b[0m         reply.get('colab_msg_id') == message_id):\n\u001b[1;32m    105\u001b[0m       \u001b[0;32mif\u001b[0m \u001b[0;34m'error'\u001b[0m \u001b[0;32min\u001b[0m \u001b[0mreply\u001b[0m\u001b[0;34m:\u001b[0m\u001b[0;34m\u001b[0m\u001b[0;34m\u001b[0m\u001b[0m\n\u001b[0;32m--> 106\u001b[0;31m         \u001b[0;32mraise\u001b[0m \u001b[0mMessageError\u001b[0m\u001b[0;34m(\u001b[0m\u001b[0mreply\u001b[0m\u001b[0;34m[\u001b[0m\u001b[0;34m'error'\u001b[0m\u001b[0;34m]\u001b[0m\u001b[0;34m)\u001b[0m\u001b[0;34m\u001b[0m\u001b[0;34m\u001b[0m\u001b[0m\n\u001b[0m\u001b[1;32m    107\u001b[0m       \u001b[0;32mreturn\u001b[0m \u001b[0mreply\u001b[0m\u001b[0;34m.\u001b[0m\u001b[0mget\u001b[0m\u001b[0;34m(\u001b[0m\u001b[0;34m'data'\u001b[0m\u001b[0;34m,\u001b[0m \u001b[0;32mNone\u001b[0m\u001b[0;34m)\u001b[0m\u001b[0;34m\u001b[0m\u001b[0;34m\u001b[0m\u001b[0m\n\u001b[1;32m    108\u001b[0m \u001b[0;34m\u001b[0m\u001b[0m\n",
            "\u001b[0;31mMessageError\u001b[0m: Error: credential propagation was unsuccessful"
          ]
        }
      ]
    },
    {
      "cell_type": "code",
      "metadata": {
        "id": "du_7eLoa2d7I"
      },
      "source": [
        "! unzip -uq    '/content/drive/MyDrive/dataset.zip'"
      ],
      "execution_count": null,
      "outputs": []
    },
    {
      "cell_type": "code",
      "metadata": {
        "id": "31yUDZU1zErP"
      },
      "source": [
        "from tensorflow.keras.models import load_model\n",
        "model=load_model('/content/drive/MyDrive/ps2model.h5')"
      ],
      "execution_count": null,
      "outputs": []
    },
    {
      "cell_type": "code",
      "metadata": {
        "id": "Wf_oayD06Lz3"
      },
      "source": [
        "import numpy as np\n",
        "import keras\n",
        "import matplotlib.pyplot as plt\n",
        "import itertools\n",
        "import cv2\n",
        "from keras.optimizers import SGD\n",
        "from keras.preprocessing.image import ImageDataGenerator\n",
        "from keras.layers.core import Dense,Flatten\n",
        "from keras.layers.convolutional import Conv2D\n",
        "import argparse\n",
        "from keras.models import Sequential,load_model\n",
        "from keras.layers import Activation,MaxPooling2D,Dropout,Dense\n",
        "import os\n",
        "from keras.layers import BatchNormalization"
      ],
      "execution_count": null,
      "outputs": []
    },
    {
      "cell_type": "code",
      "metadata": {
        "id": "hZvM-Z1iasdM"
      },
      "source": [
        "import cv2\n",
        "import matplotlib.pyplot as plt\n",
        "\n",
        "def extractor(img):\n",
        "    p=0\n",
        "    net = cv2.dnn.readNetFromDarknet(\"/content/drive/MyDrive/yolov3_custom.cfg\", \"/content/drive/MyDrive/yolov3/yolov3_training_final.weights\")\n",
        "    classes = ['Licence Plate']\n",
        "    img = cv2.resize(img, (1280, 720))\n",
        "    hight, width, _ = img.shape\n",
        "    blob = cv2.dnn.blobFromImage(img, 1 / 255, (416, 416), (0, 0, 0), swapRB=True, crop=False)\n",
        "    net.setInput(blob)\n",
        "\n",
        "    output_layers_name = net.getUnconnectedOutLayersNames()\n",
        "\n",
        "    layerOutputs = net.forward(output_layers_name)\n",
        "\n",
        "    boxes = []\n",
        "    confidences = []\n",
        "    class_ids = []\n",
        "    cropped = None\n",
        "    for output in layerOutputs:\n",
        "        for detection in output:\n",
        "            score = detection[5:]\n",
        "            class_id = np.argmax(score)\n",
        "            confidence = score[class_id]\n",
        "            if confidence > 0.5:\n",
        "                center_x = int(detection[0] * width)\n",
        "                center_y = int(detection[1] * hight)\n",
        "                w = int(detection[2] * width)\n",
        "                h = int(detection[3] * hight)\n",
        "                x = int(center_x - w / 2)\n",
        "                y = int(center_y - h / 2)\n",
        "                if(confidence>p):\n",
        "                  p=confidence\n",
        "                  cropped = img[y:y + h, x:x + w]\n",
        "                boxes.append([x, y, w, h])\n",
        "                confidences.append((float(confidence)))\n",
        "                class_ids.append(class_id)\n",
        "\n",
        "    indexes = cv2.dnn.NMSBoxes(boxes, confidences, .8, .4)\n",
        "    font = cv2.FONT_HERSHEY_PLAIN\n",
        "    colors = np.random.uniform(0, 255, size=(len(boxes), 3))\n",
        "    if(len(indexes)==0):\n",
        "      return img\n",
        "    if len(indexes) > 0:\n",
        "        for i in indexes.flatten():\n",
        "            x, y, w, h = boxes[i]\n",
        "            label = str(classes[class_ids[i]])\n",
        "            confidence = str(round(confidences[i], 2))\n",
        "            color = (0, 255, 0)    \n",
        "            cv2.rectangle(img, (x, y), (x + w, y + h), color, 2)\n",
        "            cv2.putText(img, label + \" \" + confidence, (x, y + 400), font, 2, color, 2)\n",
        "    return img"
      ],
      "execution_count": null,
      "outputs": []
    },
    {
      "cell_type": "code",
      "metadata": {
        "id": "ZP4HMVo4bg_M"
      },
      "source": [
        "def vid_capture(cap):\n",
        "  net = cv2.dnn.readNetFromDarknet(\"/content/drive/MyDrive/yolov3_custom.cfg\", \"/content/drive/MyDrive/yolov3/yolov3_training_final.weights\")\n",
        "  classes = ['Licence Plate']\n",
        "  p=0\n",
        "  cropped=None\n",
        "  flag=1\n",
        "  while cap.isOpened():\n",
        "      print('Detecting')\n",
        "      _, img = cap.read()\n",
        "      img=cv2.rotate(img,cv2.ROTATE_90_CLOCKWISE)\n",
        "      img = cv2.resize(img, (1280, 720))\n",
        "      hight, width, _ = img.shape\n",
        "      blob = cv2.dnn.blobFromImage(img, 1 / 255, (416, 416), (0, 0, 0), swapRB=True, crop=False)\n",
        "      net.setInput(blob)\n",
        "      output_layers_name = net.getUnconnectedOutLayersNames()\n",
        "      layerOutputs = net.forward(output_layers_name)\n",
        "      boxes = []\n",
        "      confidences = []\n",
        "      class_ids = []\n",
        "      for output in layerOutputs:\n",
        "          for detection in output:\n",
        "              score = detection[5:]\n",
        "              class_id = np.argmax(score)\n",
        "              confidence = score[class_id]\n",
        "              if confidence > 0.5:\n",
        "                  center_x = int(detection[0] * width)\n",
        "                  center_y = int(detection[1] * hight)\n",
        "                  w = int(detection[2] * width)\n",
        "                  h = int(detection[3] * hight)\n",
        "                  x = int(center_x - w / 2)\n",
        "                  y = int(center_y - h / 2)\n",
        "                  if confidence>p:\n",
        "                    p=confidence\n",
        "                    cropped=img[y:y+h,x:x+w]\n",
        "                    if p>0.5:\n",
        "                      flag=0\n",
        "                  boxes.append([x, y, w, h])\n",
        "                  confidences.append((float(confidence)))\n",
        "                  class_ids.append(class_id)\n",
        "      indexes = cv2.dnn.NMSBoxes(boxes, confidences, .8, .4)\n",
        "      font = cv2.FONT_HERSHEY_PLAIN\n",
        "      colors = np.random.uniform(0, 255, size=(len(boxes), 3))\n",
        "      if len(indexes) > 0:\n",
        "          for i in indexes.flatten():\n",
        "              x, y, w, h = boxes[i]\n",
        "              label = str(classes[class_ids[i]])\n",
        "              confidence = str(round(confidences[i], 2))\n",
        "              color = colors[i]\n",
        "              cv2.rectangle(img, (x, y), (x + w, y + h), color, 2)\n",
        "              cv2.putText(img, label + \" \" + confidence, (x, y + 400), font, 2, color, 2)\n",
        "      if(flag==0):\n",
        "        break\n",
        "  return cropped\n"
      ],
      "execution_count": null,
      "outputs": []
    },
    {
      "cell_type": "code",
      "metadata": {
        "id": "ff0f0bv3-Xin"
      },
      "source": [
        "def get_processed_image(img):\n",
        "    a = cv2.cvtColor(img, cv2.COLOR_BGR2GRAY)\n",
        "    return a"
      ],
      "execution_count": null,
      "outputs": []
    },
    {
      "cell_type": "code",
      "metadata": {
        "id": "fgE-ebvb_jQp"
      },
      "source": [
        "def cmp(a):\n",
        "  return ord(a)"
      ],
      "execution_count": null,
      "outputs": []
    },
    {
      "cell_type": "code",
      "metadata": {
        "id": "mb9E7Z2fTcpo"
      },
      "source": [
        "def cmp1(a):\n",
        "  M=cv2.moments(a)\n",
        "  return int(M['m10']/M['m00'])"
      ],
      "execution_count": null,
      "outputs": []
    },
    {
      "cell_type": "code",
      "metadata": {
        "id": "wmir6AjOS94f"
      },
      "source": [
        "import numpy as np\n",
        "import cv2\n",
        "import imutils\n",
        "def locate_candidates(img,imgg):\n",
        "  ans=[]\n",
        "  img=cv2.resize(img,(300,100))\n",
        "  img=cv2.GaussianBlur(img, (5,5),0)\n",
        "  #light=cv2.morphologyEx(img,cv2.MORPH_CLOSE,sqr_kernel)\n",
        "  #img=cv2.Canny(img,0,120)\n",
        "  thresh=cv2.adaptiveThreshold(img,255,cv2.ADAPTIVE_THRESH_GAUSSIAN_C,cv2.THRESH_BINARY,115,8)\n",
        "  contours,hierarchy=cv2.findContours(thresh,cv2.RETR_TREE,cv2.CHAIN_APPROX_NONE)\n",
        "  cv2.drawContours(image,contours,-1,(0,255,0),1)\n",
        "  le=len(contours)\n",
        "  print (len(contours))\n",
        "  cnt=[]\n",
        "  for i in contours:\n",
        "    M1=cv2.moments(i)\n",
        "    M1=M1['m00']\n",
        "    if (M1==0):\n",
        "       continue\n",
        "    else:\n",
        "      cnt.append(i)    \n",
        "  contours=sorted(cnt,key=cmp1)\n",
        "  \n",
        "  avl=[]\n",
        "  \n",
        "  print('###'+str(len(cnt)))\n",
        "  hr=-1\n",
        "  cnt=0\n",
        "  for i in contours:\n",
        "     x,y,w,h=cv2.boundingRect(i)\n",
        "     if (w > thresh.shape[1] /16 and w < thresh.shape[1] /8 and h > thresh.shape[0] /6 and h<(3*thresh.shape[0])/4):\n",
        "       if(cnt>2):\n",
        "        hr=h\n",
        "        break\n",
        "     cnt+=1\n",
        "  for i in contours:\n",
        "      x,y,w,h=cv2.boundingRect(i)\n",
        "      cropped = imgg[y:y + h, x:x + w]\n",
        "      cv2.waitKey(0)\n",
        "      if (w > thresh.shape[1] /16 and w < thresh.shape[1] /8 and h > thresh.shape[0] /6 and h<(3*thresh.shape[0])/4) or hr!=-1:\n",
        "        M=cv2.moments(i)\n",
        "      else:\n",
        "        continue\n",
        "      fl=1\n",
        "      cx=int(M['m10']/M['m00'])\n",
        "      for j in avl:\n",
        "          if abs(j-cx)<=10:\n",
        "              fl=0\n",
        "          if(fl==0):\n",
        "              break\n",
        "\n",
        "      if(fl==0):\n",
        "          continue\n",
        "      if((w > thresh.shape[1] /16 and w < thresh.shape[1] /8 and h > thresh.shape[0] /6 and h<(3*thresh.shape[0])/4) or abs(h-hr)<=6  ):\n",
        "        avl.append(cx)\n",
        "      if (w > thresh.shape[1] /16 and w < thresh.shape[1] /8 and h > thresh.shape[0] / 6 and h<(3*thresh.shape[0])/4) or (abs(h-hr)<=6  and w < thresh.shape[1] /8):\n",
        "        cropped=imgg[y:y+h,x:x+w]\n",
        "        cropped=cv2.copyMakeBorder(cropped, 5, 5, 5, 5, cv2.BORDER_CONSTANT)\n",
        "        ans.append(cropped)\n",
        "  \n",
        "\n",
        "        \n",
        "  return ans\n",
        "\n",
        "\n"
      ],
      "execution_count": null,
      "outputs": []
    },
    {
      "cell_type": "code",
      "metadata": {
        "id": "ZVehoMlOS0Mb"
      },
      "source": [
        "mapping='0123456789ABCDEFGHIJKLMNOPQRSTUVWXYZ'"
      ],
      "execution_count": null,
      "outputs": []
    },
    {
      "cell_type": "code",
      "metadata": {
        "id": "S8WRHMh36aRU"
      },
      "source": [
        "features=[]\n",
        "labels=[]\n",
        "li=[]\n",
        "path = '/content/dataset'\n",
        "for c in os.listdir(path):\n",
        "  li.append(c)\n",
        "li.sort(key=cmp)\n",
        "print(li)\n",
        "index=0\n",
        "for c in li:\n",
        "  print(c)\n",
        "  folder = os.path.join(path,c)\n",
        "  for img in os.listdir(folder):\n",
        "        imgpath = os.path.join(folder,img)\n",
        "        i = cv2.imread(imgpath)\n",
        "        imgfinal = get_processed_image(i)\n",
        "        imgfinal = np.array(imgfinal)\n",
        "        features.append(imgfinal)\n",
        "        labels.append(index)\n",
        "  index+=1 \n",
        "    "
      ],
      "execution_count": null,
      "outputs": []
    },
    {
      "cell_type": "code",
      "metadata": {
        "id": "ZifWDUtNMp8d"
      },
      "source": [
        "\n"
      ],
      "execution_count": null,
      "outputs": []
    },
    {
      "cell_type": "code",
      "metadata": {
        "id": "R9xhIqqY6aTy"
      },
      "source": [
        "labels=np.array(labels)\n",
        "features=np.array(features)\n",
        "print(labels.shape)\n",
        "print(features.shape)"
      ],
      "execution_count": null,
      "outputs": []
    },
    {
      "cell_type": "code",
      "metadata": {
        "id": "B0eGL4EUB_db"
      },
      "source": [
        "x_train = []\n",
        "y_train = []\n",
        "x_test = []\n",
        "y_test = []"
      ],
      "execution_count": null,
      "outputs": []
    },
    {
      "cell_type": "code",
      "metadata": {
        "id": "ysBWRSTR6aVY"
      },
      "source": [
        "from sklearn.model_selection import train_test_split\n",
        "x_train,x_test,y_train,y_test=train_test_split(features,labels,test_size=0.3,random_state=42,shuffle=True,stratify=labels)"
      ],
      "execution_count": null,
      "outputs": []
    },
    {
      "cell_type": "code",
      "metadata": {
        "id": "Hv2-oL0yCUFQ"
      },
      "source": [
        "print(len(x_train),len(x_test)) "
      ],
      "execution_count": null,
      "outputs": []
    },
    {
      "cell_type": "code",
      "metadata": {
        "id": "l1sbIdA66aXh"
      },
      "source": [
        "np.save('x_train',x_train)\n",
        "np.save('y_train',y_train)\n",
        "np.save('x_test',x_test)\n",
        "np.save('y_test',y_test)"
      ],
      "execution_count": null,
      "outputs": []
    },
    {
      "cell_type": "code",
      "metadata": {
        "id": "eqXRWhe-6aZF"
      },
      "source": [
        "x_train = np.array(x_train)\n",
        "y_train = np.array(y_train)\n",
        "x_test = np.array(x_test)\n",
        "y_test = np.array(y_test)\n",
        "x_train = x_train.reshape((29260, 28, 28, 1))\n",
        "x_test=x_test.reshape((7316, 28, 28, 1))\n",
        "print(x_test.shape)\n",
        "\n",
        "x_train = x_train/255\n",
        "x_test = x_test/255"
      ],
      "execution_count": null,
      "outputs": []
    },
    {
      "cell_type": "code",
      "metadata": {
        "id": "AZqIPMkV6abh"
      },
      "source": [
        "from tensorflow import keras\n",
        "y_test = keras.utils.to_categorical(y_test, 36)\n",
        "y_train = keras.utils.to_categorical(y_train, 36)"
      ],
      "execution_count": null,
      "outputs": []
    },
    {
      "cell_type": "code",
      "metadata": {
        "id": "rpKjZyQC6ail"
      },
      "source": [
        "\n",
        "model =Sequential()\n",
        "model.add(Conv2D(32, (3,3), activation='relu', input_shape = (28,28,1)))\n",
        "model.add(MaxPooling2D((2,2)))\n",
        "model.add(Conv2D(64, (3,3), activation = 'relu'))\n",
        "model.add(MaxPooling2D((2,2)))\n",
        "model.add(Conv2D(64, (3,3), activation='relu'))\n",
        "model.add(Flatten())\n",
        "model.add(Dense(64, activation = 'relu'))\n",
        "model.add(Dense(36, activation='softmax'))\n",
        "model.compile(loss='categorical_crossentropy', optimizer='rmsprop', metrics=['accuracy'])\n",
        "model.summary()"
      ],
      "execution_count": null,
      "outputs": []
    },
    {
      "cell_type": "code",
      "metadata": {
        "id": "3ZE-fwnxC--D"
      },
      "source": [
        "from keras.callbacks import ModelCheckpoint\n",
        "\n",
        "checkpoint = ModelCheckpoint('/content/models/model-{epoch:03d}.h5',\n",
        "                                 monitor='accuracy',\n",
        "                                 verbose=0,\n",
        "                                 save_best_only=True)"
      ],
      "execution_count": null,
      "outputs": []
    },
    {
      "cell_type": "code",
      "metadata": {
        "id": "DHfZuoqrXr0v"
      },
      "source": [
        ""
      ],
      "execution_count": null,
      "outputs": []
    },
    {
      "cell_type": "code",
      "metadata": {
        "id": "Vq7qpDIfC_Op"
      },
      "source": [
        "history=model.fit(x_train,y_train,callbacks=[checkpoint],validation_data = None,epochs=100,verbose=1,batch_size=64)\n"
      ],
      "execution_count": null,
      "outputs": []
    },
    {
      "cell_type": "code",
      "metadata": {
        "id": "XY8cwbP1DE1S"
      },
      "source": [
        "predictions = model.predict_classes(x_test)\n"
      ],
      "execution_count": null,
      "outputs": []
    },
    {
      "cell_type": "code",
      "metadata": {
        "id": "0Jk5Kic-M7Fz"
      },
      "source": [
        "cap=cv2.VideoCapture('/content/drive/MyDrive/Vid_1.mp4')\n",
        "vimg=vid_capture(cap)\n",
        "plt.imshow(vimg,cmap='Greys_r')"
      ],
      "execution_count": null,
      "outputs": []
    },
    {
      "cell_type": "code",
      "metadata": {
        "id": "neUzy-7zM6CZ"
      },
      "source": [
        ""
      ],
      "execution_count": null,
      "outputs": []
    },
    {
      "cell_type": "code",
      "metadata": {
        "id": "W2pNHBUVNAsA"
      },
      "source": [
        "image= cv2.imread('/content/drive/MyDrive/ps2/test_multipleCar/p5.png')\n",
        "#image=vimg\n",
        "image=extractor(image)\n",
        "plt.imshow(image,cmap='Greys_r')\n",
        "image=cv2.resize(image,(300,100))\n",
        "imgg=cv2.cvtColor(image,cv2.COLOR_BGR2GRAY)\n",
        "imgg=cv2.medianBlur(imgg,  5)\n",
        "cv2.imwrite('vv.jpeg',imgg)\n",
        "#imgg=cv2.Canny(imgg,0,120)\n",
        "kernel = np.ones((3,3),np.uint8)\n",
        "imgg=cv2.adaptiveThreshold(imgg,255,cv2.ADAPTIVE_THRESH_MEAN_C,cv2.THRESH_BINARY_INV,21,12)\n",
        "#imgg =cv2.morphologyEx(imgg, cv2.MORPH_CLOSE, kernel)\n",
        "imgg=cv2.erode(imgg,kernel,1)\n",
        "#imgg=cv2.dilate(imgg,kernel,1)\n",
        "#plt.imshow(imgg,cmap='Greys_r')\n",
        "gray=cv2.cvtColor(image,cv2.COLOR_BGR2GRAY)"
      ],
      "execution_count": null,
      "outputs": []
    },
    {
      "cell_type": "code",
      "metadata": {
        "id": "z02tKRiZNEf8"
      },
      "source": [
        "import cv2\n",
        "from matplotlib import pyplot as plt\n",
        "ans=locate_candidates(gray,imgg)\n",
        "rows=1\n",
        "columns=len(ans)\n",
        "cnt=1\n",
        "fig = plt.figure(figsize=(10, 7))\n",
        "for i in ans:\n",
        "  fig.add_subplot(rows,columns,cnt)\n",
        "  plt.imshow(i)\n",
        "  plt.axis('off')\n",
        "  cnt+=1"
      ],
      "execution_count": null,
      "outputs": []
    },
    {
      "cell_type": "code",
      "metadata": {
        "id": "x1KBS7IBFotF"
      },
      "source": [
        "import cv2\n",
        "import matplotlib.pyplot as plt\n",
        "cnt = 0\n",
        "print('@'+str(len(ans)))\n",
        "for test_image in ans:\n",
        "  #test_image=cv2.bitwise_not(test_image)\n",
        "  test_image=cv2.resize(test_image,(28,28))\n",
        "  print(test_image.shape)\n",
        "  plt.imshow(test_image,cmap='Greys_r')\n",
        "  x=np.reshape(test_image,(28,28,1))/255\n",
        "  y=[x]\n",
        "  y=np.array(y)\n",
        "  result=np.argmax(model.predict(y))\n",
        "  if (cnt>=0 and cnt<=1) or (cnt>=4 and cnt<=4):\n",
        "    if result==0:\n",
        "      result=24\n",
        "    elif result==8:\n",
        "      result=11  \n",
        "    elif result==2:\n",
        "      result=35\n",
        "    elif result==4:\n",
        "      result=21\n",
        "    elif result==5:\n",
        "      result=28 \n",
        "    elif result==6:\n",
        "      result=16\n",
        "    elif result==1:\n",
        "      result=18    \n",
        "  else:\n",
        "    if result==24:\n",
        "      result=0\n",
        "    elif result==11:\n",
        "      result=8 \n",
        "    elif result==35:\n",
        "      result=2  \n",
        "    elif result==21:\n",
        "      result=4  \n",
        "    elif result==28:\n",
        "      result=5\n",
        "    elif result==16:\n",
        "      result=6\n",
        "    elif result==18:\n",
        "      result=1      \n",
        "  print(mapping[result],end='')\n",
        "  cnt+=1\n"
      ],
      "execution_count": null,
      "outputs": []
    },
    {
      "cell_type": "code",
      "metadata": {
        "id": "i6zQj8c-hAbd"
      },
      "source": [
        "model.save('/content/drive/My Drive/ps2model.h5')"
      ],
      "execution_count": null,
      "outputs": []
    }
  ]
}